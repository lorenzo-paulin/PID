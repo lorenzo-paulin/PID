{
  "nbformat": 4,
  "nbformat_minor": 0,
  "metadata": {
    "colab": {
      "provenance": []
    },
    "kernelspec": {
      "name": "python3",
      "display_name": "Python 3"
    },
    "language_info": {
      "name": "python"
    }
  },
  "cells": [
    {
      "cell_type": "code",
      "execution_count": null,
      "metadata": {
        "id": "yLA2iZxwPzr9"
      },
      "outputs": [],
      "source": [
        "from IPython.display import clear_output\n",
        "!sudo apt update\n",
        "!sudo apt install libcairo2-dev ffmpeg \\\n",
        "    texlive texlive-latex-extra texlive-fonts-extra \\\n",
        "    texlive-latex-recommended texlive-science \\\n",
        "    tipa libpango1.0-dev\n",
        "!pip install manim\n",
        "!pip install IPython --upgrade\n",
        "clear_output()\n"
      ]
    },
    {
      "cell_type": "code",
      "source": [
        "from manim import *"
      ],
      "metadata": {
        "id": "Zze-kMTyP5hu"
      },
      "execution_count": null,
      "outputs": []
    },
    {
      "cell_type": "code",
      "source": [
        "%%manim -qm -v WARNING Exemplo\n",
        "\n",
        "import numpy as np\n",
        "\n",
        "class Exemplo(Scene):\n",
        "  def construct(self):\n",
        "    ax = Axes(x_range = (0, 7, 0.5), y_range = (0, 7, 0.5))\n",
        "    labels = ax.get_axis_labels(x_label=\"x\", y_label=\"f(x)\")\n",
        "    titulo = MathTex(r'\\textrm{Representação gráfica de limite}').scale(1.5)\n",
        "    texto = MathTex(r'\\lim_{x \\rightarrow 1.5} f(x)', r'= 2.25').scale(0.8).shift(3*RIGHT + 2.3*UP)\n",
        "    texto_1 = MathTex(r'\\lim_{x \\rightarrow 1.5^-} f(x)', r'= 2.25').scale(0.8).shift(3*RIGHT + 2.3*UP)\n",
        "    x_o = MathTex(r'1.50', color = PINK).scale(0.8).shift(3.35*DOWN + 3.4*LEFT)\n",
        "    y_o = MathTex(r'2.25', color = PINK).scale(0.8).shift(6.58*LEFT + 1.1*DOWN)\n",
        "    x = MathTex(r'x = ', color = GREEN).scale(0.8).shift(1.2*RIGHT + 1.3*UP)\n",
        "    y = MathTex(r'y = ', color = GREEN).scale(0.8).shift(3.9*RIGHT + 1.3*UP)\n",
        "\n",
        "    def func(x):\n",
        "      return x**2\n",
        "\n",
        "    t = ValueTracker(2.5)\n",
        "\n",
        "    curve = ax.plot(func, color = RED)\n",
        "    dot_1 = Dot(ax.coords_to_point(2.5, 6.25, 0), color = GREEN)\n",
        "    dot_2 = Dot(ax.coords_to_point(1.5, 2.25, 0), color = PINK)\n",
        "    #line_1 = always_redraw(lambda: ax.get_lines_to_point(ax.c2p(t.get_value(), func(t.get_value()))))\n",
        "    line_2 = ax.get_vertical_line(ax.c2p(1.5, 2.25, 0))\n",
        "    line_3 = ax.get_horizontal_line(ax.c2p(1.5, 2.25, 0))\n",
        "    x_a = always_redraw(lambda: DecimalNumber(num_decimal_places = 3).set_value(t.get_value()).scale(0.8).set_color(GREEN).next_to(x, RIGHT, buff = 0.1))\n",
        "    #x_a.add_updater(lambda x: x.move_to(ax.c2p(t.get_value(), -0.41)))\n",
        "    y_a = always_redraw(lambda: DecimalNumber(num_decimal_places = 3).set_value(func(t.get_value())).scale(0.8).set_color(GREEN).next_to(y, RIGHT, buff = 0.1))\n",
        "    #y_a.add_updater(lambda y: y.move_to(ax.c2p(-0.34, func(t.get_value()))))\n",
        "\n",
        "\n",
        "    initial_point = [ax.coords_to_point(t.get_value(), func(t.get_value()))]\n",
        "    dot_1 = Dot(point = initial_point, color = GREEN)\n",
        "    dot_1.add_updater(lambda x: x.move_to(ax.c2p(t.get_value(), func(t.get_value()))))\n",
        "\n",
        "    rect = Rectangle(width = 5, height = 2.5).shift(3*RIGHT + 1.5*UP)\n",
        "\n",
        "    r = ValueTracker(0.5)\n",
        "\n",
        "    x_aa = always_redraw(lambda: DecimalNumber(num_decimal_places = 3).set_value(r.get_value()).scale(0.8).set_color(GREEN).next_to(x, RIGHT, buff = 0.1))\n",
        "    y_aa = always_redraw(lambda: DecimalNumber(num_decimal_places = 3).set_value(func(r.get_value())).scale(0.8).set_color(GREEN).next_to(y, RIGHT, buff = 0.1))\n",
        "\n",
        "    ip = [ax.coords_to_point(r.get_value(), func(r.get_value()))]\n",
        "    dot_3 = Dot(point = ip, color = GREEN)\n",
        "    dot_3.add_updater(lambda x: x.move_to(ax.c2p(r.get_value(), func(r.get_value()))))\n",
        "\n",
        "\n",
        "\n",
        "    self.play(Write(titulo[0]))\n",
        "    self.wait()\n",
        "    self.play(FadeOut(titulo))\n",
        "    self.play(FadeIn(ax), FadeIn(labels))\n",
        "    self.play(Create(curve), run_time = 2)\n",
        "    self.wait()\n",
        "    self.play(FadeIn(x_o))\n",
        "    self.play(Create(line_2))\n",
        "    self.play(Create(line_3))\n",
        "    self.play(FadeIn(y_o))\n",
        "    self.play(FadeIn(dot_2))\n",
        "    self.play(Create(rect))\n",
        "    self.play(Write(x), Write(y), Write(x_a), Write(y_a))\n",
        "    self.play(FadeIn(dot_1))\n",
        "    self.play(FadeIn(texto[0], shift = LEFT))\n",
        "    self.play(t.animate.set_value(1.501), run_time = 3)\n",
        "    self.play(Write(texto[1]))\n",
        "    self.wait()\n",
        "    self.play(FadeOut(dot_1), FadeOut(x_a), FadeOut(y_a), FadeOut(texto[1]))\n",
        "    self.play(Write(x_aa), Write(y_aa))\n",
        "    self.play(FadeIn(dot_3))\n",
        "    self.play(Transform(texto[0], texto_1[0]))\n",
        "    self.play(r.animate.set_value(1.499), run_time = 3)\n",
        "    self.play(Write(texto_1[1]))\n",
        "    self.wait()\n",
        "\n"
      ],
      "metadata": {
        "id": "hOY4aCwNP8TN"
      },
      "execution_count": null,
      "outputs": []
    }
  ]
}