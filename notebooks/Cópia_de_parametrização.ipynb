{
  "cells": [
    {
      "cell_type": "code",
      "execution_count": null,
      "metadata": {
        "id": "ZexixbsYV-M1"
      },
      "outputs": [],
      "source": [
        "from IPython.display import clear_output\n",
        "!sudo apt update\n",
        "!sudo apt install libcairo2-dev ffmpeg \\\n",
        "    texlive texlive-latex-extra texlive-fonts-extra \\\n",
        "    texlive-latex-recommended texlive-science \\\n",
        "    tipa libpango1.0-dev\n",
        "!pip install manim\n",
        "!pip install IPython --upgrade\n",
        "clear_output()"
      ]
    },
    {
      "cell_type": "code",
      "execution_count": null,
      "metadata": {
        "id": "iEqdokhnbjC8",
        "colab": {
          "base_uri": "https://localhost:8080/",
          "height": 50
        },
        "outputId": "7e6250c5-4b80-4604-a2e3-13707f54e948"
      },
      "outputs": [
        {
          "output_type": "display_data",
          "data": {
            "text/plain": [
              "Manim Community \u001b[32mv0.\u001b[0m\u001b[32m16.0\u001b[0m\u001b[32m.post0\u001b[0m\n",
              "\n"
            ],
            "text/html": [
              "<pre style=\"white-space:pre;overflow-x:auto;line-height:normal;font-family:Menlo,'DejaVu Sans Mono',consolas,'Courier New',monospace\">Manim Community <span style=\"color: #008000; text-decoration-color: #008000\">v0.16.0.post0</span>\n",
              "\n",
              "</pre>\n"
            ]
          },
          "metadata": {}
        }
      ],
      "source": [
        "from manim import *"
      ]
    },
    {
      "cell_type": "code",
      "execution_count": null,
      "metadata": {
        "id": "p_YawZ-1nORD"
      },
      "outputs": [],
      "source": [
        "%%manim -qk integraldelinhaparametrizacao\n",
        "config.media_width= \"80%\"\n",
        "\n",
        "class integraldelinhaparametrizacao(Scene):\n",
        "\n",
        "\n",
        "\n",
        "  def construct(self):\n",
        "\n",
        "    titulo= Text(r\"Como calcular a integral de linha?\")\n",
        "    resposta= Text(r\"Parametrização de uma curva\", font_size= 35, color= YELLOW).move_to(point_or_mobject=[0,0,0])\n",
        "    t1= MathTex(r\"\\Delta s \\,= \\, \\int^{b}_{a} \\Vert r'(t) \\Vert \\, dt\",\n",
        "                font_size= 45 ).move_to(point_or_mobject=[1,0,0])\n",
        "    t2= MathTex(r\"\\Delta s \\,= \\, \\int^{b}_{a} \\Vert r'(t) \\Vert \\, dt \\,=\\,\",r\" \\Vert r'(t) \\Vert \\, (b-a)\",\n",
        "                font_size= 45 ).move_to(point_or_mobject=[1,0,0])\n",
        "    teorema= Text(r\"Teorema do Valor Médio\", font_size= 20, color= YELLOW).next_to(t2[1], DOWN)\n",
        "\n",
        "    ######### definição dos eixos ##########\n",
        "    eixos = Axes(x_range=(0, 5), y_range=(0, 6), x_length=4, y_length=4)\n",
        "\n",
        "    x_label = eixos.get_x_axis_label(\n",
        "            Tex(\"x\").scale(0.65), edge= 0.5* RIGHT, direction=RIGHT, buff=0.5)\n",
        "    y_label = eixos.get_y_axis_label(\n",
        "            Tex(\"y\").scale(0.65), edge=UP, direction=UP, buff=0.5)\n",
        "\n",
        "    r= MathTex(r\"r:[a,b] \\rightarrow \\mathbb{R}^2\").move_to(point_or_mobject=[-3,-0.5,0])\n",
        "    t= MathTex(r\" t \\rightarrow (x(t),y(t))\").next_to(r, DOWN)\n",
        "\n",
        "    grafico = eixos.plot(lambda x : 2*np.cos(0.7*x)+3, color= YELLOW, x_range=[0.5,4])\n",
        "\n",
        "\n",
        "    nomecurva= eixos.get_graph_label(\n",
        "            graph=grafico,\n",
        "            label= MathTex(r\"c\", font_size= 40),\n",
        "            x_val=3,\n",
        "            dot= False,\n",
        "            direction=DOWN,\n",
        "            color= YELLOW\n",
        "        )\n",
        "    pontoa= eixos.get_graph_label(\n",
        "            graph=grafico,\n",
        "            label= MathTex(r\"r(a)\", font_size= 40),\n",
        "            x_val=0.4,\n",
        "            dot= True,\n",
        "            direction=UP+RIGHT,\n",
        "            color= BLUE_B\n",
        "        )\n",
        "    pontob= eixos.get_graph_label(\n",
        "            graph=grafico,\n",
        "            label= MathTex(r\"r(b)\", font_size= 40),\n",
        "            x_val=4,\n",
        "            dot= True,\n",
        "            direction=UP+RIGHT,\n",
        "            color= BLUE_B\n",
        "        )\n",
        "    delta= MathTex(r\"\\Delta s\", font_size=40, color=YELLOW).move_to(point_or_mobject=[-4.55,-0.1,0])\n",
        "\n",
        "    ######grupos#######\n",
        "    grupográfico= Group(nomecurva, x_label, y_label, eixos, grafico, pontoa, pontob).move_to(point_or_mobject=[0,-0.5,0]) #ponto onde o objeto estará localizado\n",
        "\n",
        "    grupolinha = Group(grafico,nomecurva,pontoa,pontob)\n",
        "\n",
        "    #grupopontos= Group(pontoa,pontob).move_to(point_or_mobject=[2,-0.5,0])\n",
        "\n",
        "    self.play(FadeIn(resposta))\n",
        "    self.wait()\n",
        "    self.play(resposta.animate.shift(UP*3)) #move todo o grupo em uma animação suave\n",
        "    self.wait()\n",
        "\n",
        "    self.play(FadeIn(eixos,x_label,y_label))\n",
        "    self.play(Write(grafico),FadeIn(nomecurva), run_time=3)\n",
        "    self.play(grupográfico.animate.shift(RIGHT*3))\n",
        "    self.play(FadeIn(r,t))\n",
        "    #self.play(FadeIn(grupopontos))\n",
        "    self.wait(2)\n",
        "\n",
        "    self.play(FadeOut(eixos, x_label,y_label,r,t), grupolinha.animate.shift(LEFT*7.5), run_time=3)\n",
        "\n",
        "\n",
        "    self.play(FadeIn(delta))\n",
        "    self.play(FadeIn(t1))\n",
        "    self.wait()\n",
        "    self.play(TransformMatchingShapes(t1,t2))\n",
        "    self.play(Indicate(t2[1], color=YELLOW), FadeIn(teorema), run_time=4)\n",
        "    self.wait(3)\n",
        "\n",
        "\n",
        "\n",
        "\n"
      ]
    },
    {
      "cell_type": "code",
      "execution_count": null,
      "metadata": {
        "id": "BXBsiKrrEf90"
      },
      "outputs": [],
      "source": []
    }
  ],
  "metadata": {
    "colab": {
      "provenance": []
    },
    "kernelspec": {
      "display_name": "Python 3",
      "name": "python3"
    },
    "language_info": {
      "name": "python"
    }
  },
  "nbformat": 4,
  "nbformat_minor": 0
}